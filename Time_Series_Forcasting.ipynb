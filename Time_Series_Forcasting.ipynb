{
 "cells": [
  {
   "cell_type": "code",
   "execution_count": 1,
   "metadata": {},
   "outputs": [],
   "source": [
    "import pandas as pd\n",
    "import numpy as np\n",
    "import matplotlib.pyplot as plt\n",
    "%matplotlib inline"
   ]
  },
  {
   "cell_type": "code",
   "execution_count": 2,
   "metadata": {},
   "outputs": [],
   "source": [
    "train = pd.read_csv('.\\\\Documents\\\\train_csv.csv')\n",
    "train.time = pd.to_datetime(train.time,infer_datetime_format=True)\n",
    "indexed_data = train.set_index(['time'])\n",
    "indexed_data = indexed_data.drop('id',axis=1)"
   ]
  },
  {
   "cell_type": "code",
   "execution_count": 3,
   "metadata": {},
   "outputs": [
    {
     "data": {
      "text/html": [
       "<div>\n",
       "<style scoped>\n",
       "    .dataframe tbody tr th:only-of-type {\n",
       "        vertical-align: middle;\n",
       "    }\n",
       "\n",
       "    .dataframe tbody tr th {\n",
       "        vertical-align: top;\n",
       "    }\n",
       "\n",
       "    .dataframe thead th {\n",
       "        text-align: right;\n",
       "    }\n",
       "</style>\n",
       "<table border=\"1\" class=\"dataframe\">\n",
       "  <thead>\n",
       "    <tr style=\"text-align: right;\">\n",
       "      <th></th>\n",
       "      <th>feature</th>\n",
       "    </tr>\n",
       "    <tr>\n",
       "      <th>time</th>\n",
       "      <th></th>\n",
       "    </tr>\n",
       "  </thead>\n",
       "  <tbody>\n",
       "    <tr>\n",
       "      <th>2019-03-19 00:00:00</th>\n",
       "      <td>237.97</td>\n",
       "    </tr>\n",
       "    <tr>\n",
       "      <th>2019-03-19 00:00:10</th>\n",
       "      <td>57.93</td>\n",
       "    </tr>\n",
       "    <tr>\n",
       "      <th>2019-03-19 00:00:20</th>\n",
       "      <td>90.53</td>\n",
       "    </tr>\n",
       "    <tr>\n",
       "      <th>2019-03-19 00:00:30</th>\n",
       "      <td>260.75</td>\n",
       "    </tr>\n",
       "    <tr>\n",
       "      <th>2019-03-19 00:00:40</th>\n",
       "      <td>49.70</td>\n",
       "    </tr>\n",
       "  </tbody>\n",
       "</table>\n",
       "</div>"
      ],
      "text/plain": [
       "                     feature\n",
       "time                        \n",
       "2019-03-19 00:00:00   237.97\n",
       "2019-03-19 00:00:10    57.93\n",
       "2019-03-19 00:00:20    90.53\n",
       "2019-03-19 00:00:30   260.75\n",
       "2019-03-19 00:00:40    49.70"
      ]
     },
     "execution_count": 3,
     "metadata": {},
     "output_type": "execute_result"
    }
   ],
   "source": [
    "from datetime import datetime\n",
    "indexed_data.head()"
   ]
  },
  {
   "cell_type": "code",
   "execution_count": 4,
   "metadata": {},
   "outputs": [
    {
     "data": {
      "text/plain": [
       "[<matplotlib.lines.Line2D at 0x28146bc9c48>]"
      ]
     },
     "execution_count": 4,
     "metadata": {},
     "output_type": "execute_result"
    },
    {
     "data": {
      "image/png": "[encoded data removed]",
      "text/plain": [
       "<Figure size 432x288 with 1 Axes>"
      ]
     },
     "metadata": {
      "needs_background": "light"
     },
     "output_type": "display_data"
    }
   ],
   "source": [
    "plt.xlabel('Date_Time')\n",
    "plt.ylabel('Feature')\n",
    "plt.plot(indexed_data)"
   ]
  },
  {
   "cell_type": "code",
   "execution_count": 5,
   "metadata": {},
   "outputs": [],
   "source": [
    "rolmean = indexed_data.rolling(window=6).mean()\n",
    "rolstd = indexed_data.rolling(window=6).std()"
   ]
  },
  {
   "cell_type": "code",
   "execution_count": 6,
   "metadata": {},
   "outputs": [
    {
     "data": {
      "text/html": [
       "<div>\n",
       "<style scoped>\n",
       "    .dataframe tbody tr th:only-of-type {\n",
       "        vertical-align: middle;\n",
       "    }\n",
       "\n",
       "    .dataframe tbody tr th {\n",
       "        vertical-align: top;\n",
       "    }\n",
       "\n",
       "    .dataframe thead th {\n",
       "        text-align: right;\n",
       "    }\n",
       "</style>\n",
       "<table border=\"1\" class=\"dataframe\">\n",
       "  <thead>\n",
       "    <tr style=\"text-align: right;\">\n",
       "      <th></th>\n",
       "      <th>feature</th>\n",
       "    </tr>\n",
       "    <tr>\n",
       "      <th>time</th>\n",
       "      <th></th>\n",
       "    </tr>\n",
       "  </thead>\n",
       "  <tbody>\n",
       "    <tr>\n",
       "      <th>2019-03-19 00:00:00</th>\n",
       "      <td>NaN</td>\n",
       "    </tr>\n",
       "    <tr>\n",
       "      <th>2019-03-19 00:00:10</th>\n",
       "      <td>NaN</td>\n",
       "    </tr>\n",
       "    <tr>\n",
       "      <th>2019-03-19 00:00:20</th>\n",
       "      <td>NaN</td>\n",
       "    </tr>\n",
       "    <tr>\n",
       "      <th>2019-03-19 00:00:30</th>\n",
       "      <td>NaN</td>\n",
       "    </tr>\n",
       "    <tr>\n",
       "      <th>2019-03-19 00:00:40</th>\n",
       "      <td>NaN</td>\n",
       "    </tr>\n",
       "    <tr>\n",
       "      <th>...</th>\n",
       "      <td>...</td>\n",
       "    </tr>\n",
       "    <tr>\n",
       "      <th>2019-03-19 00:12:30</th>\n",
       "      <td>229.476667</td>\n",
       "    </tr>\n",
       "    <tr>\n",
       "      <th>2019-03-19 00:12:40</th>\n",
       "      <td>271.198333</td>\n",
       "    </tr>\n",
       "    <tr>\n",
       "      <th>2019-03-19 00:12:50</th>\n",
       "      <td>274.031667</td>\n",
       "    </tr>\n",
       "    <tr>\n",
       "      <th>2019-03-19 00:13:00</th>\n",
       "      <td>262.606667</td>\n",
       "    </tr>\n",
       "    <tr>\n",
       "      <th>2019-03-19 00:13:10</th>\n",
       "      <td>268.875000</td>\n",
       "    </tr>\n",
       "  </tbody>\n",
       "</table>\n",
       "<p>80 rows × 1 columns</p>\n",
       "</div>"
      ],
      "text/plain": [
       "                        feature\n",
       "time                           \n",
       "2019-03-19 00:00:00         NaN\n",
       "2019-03-19 00:00:10         NaN\n",
       "2019-03-19 00:00:20         NaN\n",
       "2019-03-19 00:00:30         NaN\n",
       "2019-03-19 00:00:40         NaN\n",
       "...                         ...\n",
       "2019-03-19 00:12:30  229.476667\n",
       "2019-03-19 00:12:40  271.198333\n",
       "2019-03-19 00:12:50  274.031667\n",
       "2019-03-19 00:13:00  262.606667\n",
       "2019-03-19 00:13:10  268.875000\n",
       "\n",
       "[80 rows x 1 columns]"
      ]
     },
     "execution_count": 6,
     "metadata": {},
     "output_type": "execute_result"
    }
   ],
   "source": [
    "rolmean"
   ]
  },
  {
   "cell_type": "code",
   "execution_count": 7,
   "metadata": {},
   "outputs": [
    {
     "data": {
      "text/html": [
       "<div>\n",
       "<style scoped>\n",
       "    .dataframe tbody tr th:only-of-type {\n",
       "        vertical-align: middle;\n",
       "    }\n",
       "\n",
       "    .dataframe tbody tr th {\n",
       "        vertical-align: top;\n",
       "    }\n",
       "\n",
       "    .dataframe thead th {\n",
       "        text-align: right;\n",
       "    }\n",
       "</style>\n",
       "<table border=\"1\" class=\"dataframe\">\n",
       "  <thead>\n",
       "    <tr style=\"text-align: right;\">\n",
       "      <th></th>\n",
       "      <th>feature</th>\n",
       "    </tr>\n",
       "    <tr>\n",
       "      <th>time</th>\n",
       "      <th></th>\n",
       "    </tr>\n",
       "  </thead>\n",
       "  <tbody>\n",
       "    <tr>\n",
       "      <th>2019-03-19 00:00:00</th>\n",
       "      <td>NaN</td>\n",
       "    </tr>\n",
       "    <tr>\n",
       "      <th>2019-03-19 00:00:10</th>\n",
       "      <td>NaN</td>\n",
       "    </tr>\n",
       "    <tr>\n",
       "      <th>2019-03-19 00:00:20</th>\n",
       "      <td>NaN</td>\n",
       "    </tr>\n",
       "    <tr>\n",
       "      <th>2019-03-19 00:00:30</th>\n",
       "      <td>NaN</td>\n",
       "    </tr>\n",
       "    <tr>\n",
       "      <th>2019-03-19 00:00:40</th>\n",
       "      <td>NaN</td>\n",
       "    </tr>\n",
       "    <tr>\n",
       "      <th>...</th>\n",
       "      <td>...</td>\n",
       "    </tr>\n",
       "    <tr>\n",
       "      <th>2019-03-19 00:12:30</th>\n",
       "      <td>163.381057</td>\n",
       "    </tr>\n",
       "    <tr>\n",
       "      <th>2019-03-19 00:12:40</th>\n",
       "      <td>172.702778</td>\n",
       "    </tr>\n",
       "    <tr>\n",
       "      <th>2019-03-19 00:12:50</th>\n",
       "      <td>169.679862</td>\n",
       "    </tr>\n",
       "    <tr>\n",
       "      <th>2019-03-19 00:13:00</th>\n",
       "      <td>181.301873</td>\n",
       "    </tr>\n",
       "    <tr>\n",
       "      <th>2019-03-19 00:13:10</th>\n",
       "      <td>174.389767</td>\n",
       "    </tr>\n",
       "  </tbody>\n",
       "</table>\n",
       "<p>80 rows × 1 columns</p>\n",
       "</div>"
      ],
      "text/plain": [
       "                        feature\n",
       "time                           \n",
       "2019-03-19 00:00:00         NaN\n",
       "2019-03-19 00:00:10         NaN\n",
       "2019-03-19 00:00:20         NaN\n",
       "2019-03-19 00:00:30         NaN\n",
       "2019-03-19 00:00:40         NaN\n",
       "...                         ...\n",
       "2019-03-19 00:12:30  163.381057\n",
       "2019-03-19 00:12:40  172.702778\n",
       "2019-03-19 00:12:50  169.679862\n",
       "2019-03-19 00:13:00  181.301873\n",
       "2019-03-19 00:13:10  174.389767\n",
       "\n",
       "[80 rows x 1 columns]"
      ]
     },
     "execution_count": 7,
     "metadata": {},
     "output_type": "execute_result"
    }
   ],
   "source": [
    "rolstd"
   ]
  },
  {
   "cell_type": "code",
   "execution_count": 8,
   "metadata": {},
   "outputs": [
    {
     "data": {
      "image/png": "[encoded data removed]",
      "text/plain": [
       "<Figure size 432x288 with 1 Axes>"
      ]
     },
     "metadata": {
      "needs_background": "light"
     },
     "output_type": "display_data"
    }
   ],
   "source": [
    "org = plt.plot(indexed_data, color='blue' , label='Original Data')\n",
    "mean = plt.plot(rolmean, color='red' , label='Rolling Mean')\n",
    "std = plt.plot(rolstd, color='black' , label='Standard Deviation')\n",
    "plt.legend(loc='best')\n",
    "plt.show(block=False)"
   ]
  },
  {
   "cell_type": "code",
   "execution_count": 9,
   "metadata": {},
   "outputs": [],
   "source": [
    "from statsmodels.tsa.stattools import adfuller"
   ]
  },
  {
   "cell_type": "code",
   "execution_count": 10,
   "metadata": {},
   "outputs": [],
   "source": [
    "dtest = adfuller(indexed_data.feature, autolag='AIC')\n"
   ]
  },
  {
   "cell_type": "code",
   "execution_count": 11,
   "metadata": {},
   "outputs": [
    {
     "data": {
      "text/plain": [
       "(-5.945866499650217,\n",
       " 2.205049473411678e-07,\n",
       " 0,\n",
       " 79,\n",
       " {'1%': -3.5159766913976376,\n",
       "  '5%': -2.898885703483903,\n",
       "  '10%': -2.5866935058484217},\n",
       " 786.8263144737514)"
      ]
     },
     "execution_count": 11,
     "metadata": {},
     "output_type": "execute_result"
    }
   ],
   "source": [
    "dtest"
   ]
  },
  {
   "cell_type": "code",
   "execution_count": 12,
   "metadata": {},
   "outputs": [],
   "source": [
    "log_indexed = np.log(indexed_data)"
   ]
  },
  {
   "cell_type": "code",
   "execution_count": 13,
   "metadata": {},
   "outputs": [
    {
     "data": {
      "text/plain": [
       "[<matplotlib.lines.Line2D at 0x28146dd7cc8>]"
      ]
     },
     "execution_count": 13,
     "metadata": {},
     "output_type": "execute_result"
    },
    {
     "data": {
      "image/png": "[encoded data removed]",
      "text/plain": [
       "<Figure size 432x288 with 1 Axes>"
      ]
     },
     "metadata": {
      "needs_background": "light"
     },
     "output_type": "display_data"
    }
   ],
   "source": [
    "plt.plot(log_indexed )"
   ]
  },
  {
   "cell_type": "code",
   "execution_count": 14,
   "metadata": {},
   "outputs": [],
   "source": [
    "rolmean1 = log_indexed.rolling(window=6).mean()\n",
    "rolstd1 = log_indexed.rolling(window=6).std()"
   ]
  },
  {
   "cell_type": "code",
   "execution_count": 15,
   "metadata": {},
   "outputs": [
    {
     "data": {
      "text/html": [
       "<div>\n",
       "<style scoped>\n",
       "    .dataframe tbody tr th:only-of-type {\n",
       "        vertical-align: middle;\n",
       "    }\n",
       "\n",
       "    .dataframe tbody tr th {\n",
       "        vertical-align: top;\n",
       "    }\n",
       "\n",
       "    .dataframe thead th {\n",
       "        text-align: right;\n",
       "    }\n",
       "</style>\n",
       "<table border=\"1\" class=\"dataframe\">\n",
       "  <thead>\n",
       "    <tr style=\"text-align: right;\">\n",
       "      <th></th>\n",
       "      <th>feature</th>\n",
       "    </tr>\n",
       "    <tr>\n",
       "      <th>time</th>\n",
       "      <th></th>\n",
       "    </tr>\n",
       "  </thead>\n",
       "  <tbody>\n",
       "    <tr>\n",
       "      <th>2019-03-19 00:00:00</th>\n",
       "      <td>NaN</td>\n",
       "    </tr>\n",
       "    <tr>\n",
       "      <th>2019-03-19 00:00:10</th>\n",
       "      <td>NaN</td>\n",
       "    </tr>\n",
       "    <tr>\n",
       "      <th>2019-03-19 00:00:20</th>\n",
       "      <td>NaN</td>\n",
       "    </tr>\n",
       "    <tr>\n",
       "      <th>2019-03-19 00:00:30</th>\n",
       "      <td>NaN</td>\n",
       "    </tr>\n",
       "    <tr>\n",
       "      <th>2019-03-19 00:00:40</th>\n",
       "      <td>NaN</td>\n",
       "    </tr>\n",
       "    <tr>\n",
       "      <th>...</th>\n",
       "      <td>...</td>\n",
       "    </tr>\n",
       "    <tr>\n",
       "      <th>2019-03-19 00:12:30</th>\n",
       "      <td>5.229747</td>\n",
       "    </tr>\n",
       "    <tr>\n",
       "      <th>2019-03-19 00:12:40</th>\n",
       "      <td>5.388996</td>\n",
       "    </tr>\n",
       "    <tr>\n",
       "      <th>2019-03-19 00:12:50</th>\n",
       "      <td>5.412566</td>\n",
       "    </tr>\n",
       "    <tr>\n",
       "      <th>2019-03-19 00:13:00</th>\n",
       "      <td>5.314248</td>\n",
       "    </tr>\n",
       "    <tr>\n",
       "      <th>2019-03-19 00:13:10</th>\n",
       "      <td>5.376217</td>\n",
       "    </tr>\n",
       "  </tbody>\n",
       "</table>\n",
       "<p>80 rows × 1 columns</p>\n",
       "</div>"
      ],
      "text/plain": [
       "                      feature\n",
       "time                         \n",
       "2019-03-19 00:00:00       NaN\n",
       "2019-03-19 00:00:10       NaN\n",
       "2019-03-19 00:00:20       NaN\n",
       "2019-03-19 00:00:30       NaN\n",
       "2019-03-19 00:00:40       NaN\n",
       "...                       ...\n",
       "2019-03-19 00:12:30  5.229747\n",
       "2019-03-19 00:12:40  5.388996\n",
       "2019-03-19 00:12:50  5.412566\n",
       "2019-03-19 00:13:00  5.314248\n",
       "2019-03-19 00:13:10  5.376217\n",
       "\n",
       "[80 rows x 1 columns]"
      ]
     },
     "execution_count": 15,
     "metadata": {},
     "output_type": "execute_result"
    }
   ],
   "source": [
    "rolmean1"
   ]
  },
  {
   "cell_type": "code",
   "execution_count": 16,
   "metadata": {},
   "outputs": [
    {
     "data": {
      "text/html": [
       "<div>\n",
       "<style scoped>\n",
       "    .dataframe tbody tr th:only-of-type {\n",
       "        vertical-align: middle;\n",
       "    }\n",
       "\n",
       "    .dataframe tbody tr th {\n",
       "        vertical-align: top;\n",
       "    }\n",
       "\n",
       "    .dataframe thead th {\n",
       "        text-align: right;\n",
       "    }\n",
       "</style>\n",
       "<table border=\"1\" class=\"dataframe\">\n",
       "  <thead>\n",
       "    <tr style=\"text-align: right;\">\n",
       "      <th></th>\n",
       "      <th>feature</th>\n",
       "    </tr>\n",
       "    <tr>\n",
       "      <th>time</th>\n",
       "      <th></th>\n",
       "    </tr>\n",
       "  </thead>\n",
       "  <tbody>\n",
       "    <tr>\n",
       "      <th>2019-03-19 00:00:00</th>\n",
       "      <td>NaN</td>\n",
       "    </tr>\n",
       "    <tr>\n",
       "      <th>2019-03-19 00:00:10</th>\n",
       "      <td>NaN</td>\n",
       "    </tr>\n",
       "    <tr>\n",
       "      <th>2019-03-19 00:00:20</th>\n",
       "      <td>NaN</td>\n",
       "    </tr>\n",
       "    <tr>\n",
       "      <th>2019-03-19 00:00:30</th>\n",
       "      <td>NaN</td>\n",
       "    </tr>\n",
       "    <tr>\n",
       "      <th>2019-03-19 00:00:40</th>\n",
       "      <td>NaN</td>\n",
       "    </tr>\n",
       "    <tr>\n",
       "      <th>...</th>\n",
       "      <td>...</td>\n",
       "    </tr>\n",
       "    <tr>\n",
       "      <th>2019-03-19 00:12:30</th>\n",
       "      <td>163.381057</td>\n",
       "    </tr>\n",
       "    <tr>\n",
       "      <th>2019-03-19 00:12:40</th>\n",
       "      <td>172.702778</td>\n",
       "    </tr>\n",
       "    <tr>\n",
       "      <th>2019-03-19 00:12:50</th>\n",
       "      <td>169.679862</td>\n",
       "    </tr>\n",
       "    <tr>\n",
       "      <th>2019-03-19 00:13:00</th>\n",
       "      <td>181.301873</td>\n",
       "    </tr>\n",
       "    <tr>\n",
       "      <th>2019-03-19 00:13:10</th>\n",
       "      <td>174.389767</td>\n",
       "    </tr>\n",
       "  </tbody>\n",
       "</table>\n",
       "<p>80 rows × 1 columns</p>\n",
       "</div>"
      ],
      "text/plain": [
       "                        feature\n",
       "time                           \n",
       "2019-03-19 00:00:00         NaN\n",
       "2019-03-19 00:00:10         NaN\n",
       "2019-03-19 00:00:20         NaN\n",
       "2019-03-19 00:00:30         NaN\n",
       "2019-03-19 00:00:40         NaN\n",
       "...                         ...\n",
       "2019-03-19 00:12:30  163.381057\n",
       "2019-03-19 00:12:40  172.702778\n",
       "2019-03-19 00:12:50  169.679862\n",
       "2019-03-19 00:13:00  181.301873\n",
       "2019-03-19 00:13:10  174.389767\n",
       "\n",
       "[80 rows x 1 columns]"
      ]
     },
     "execution_count": 16,
     "metadata": {},
     "output_type": "execute_result"
    }
   ],
   "source": [
    "rolstd"
   ]
  },
  {
   "cell_type": "code",
   "execution_count": 17,
   "metadata": {},
   "outputs": [
    {
     "data": {
      "image/png": "[encoded data removed]",
      "text/plain": [
       "<Figure size 432x288 with 1 Axes>"
      ]
     },
     "metadata": {
      "needs_background": "light"
     },
     "output_type": "display_data"
    }
   ],
   "source": [
    "org1 = plt.plot(log_indexed, color='blue' , label='Original Data')\n",
    "mean1 = plt.plot(rolmean1, color='red' , label='Rolling Mean')\n",
    "std1 = plt.plot(rolstd1, color='black' , label='Standard Deviation')\n",
    "plt.legend(loc='best')\n",
    "plt.show(block=False)"
   ]
  },
  {
   "cell_type": "code",
   "execution_count": 18,
   "metadata": {},
   "outputs": [
    {
     "data": {
      "text/plain": [
       "feature    4.760676\n",
       "dtype: float64"
      ]
     },
     "execution_count": 18,
     "metadata": {},
     "output_type": "execute_result"
    }
   ],
   "source": [
    "movingAverage = np.mean(log_indexed)\n",
    "movingAverage"
   ]
  },
  {
   "cell_type": "code",
   "execution_count": 25,
   "metadata": {},
   "outputs": [
    {
     "name": "stdout",
     "output_type": "stream",
     "text": [
      "Fit ARIMA: order=(1, 0, 1) seasonal_order=(0, 1, 1, 12); AIC=165.212, BIC=176.310, Fit time=1.878 seconds\n",
      "Fit ARIMA: order=(0, 0, 0) seasonal_order=(0, 1, 0, 12); AIC=203.271, BIC=207.710, Fit time=0.052 seconds\n",
      "Fit ARIMA: order=(1, 0, 0) seasonal_order=(1, 1, 0, 12); AIC=170.607, BIC=179.485, Fit time=0.430 seconds\n",
      "Fit ARIMA: order=(0, 0, 1) seasonal_order=(0, 1, 1, 12); AIC=169.742, BIC=178.620, Fit time=0.423 seconds\n",
      "Fit ARIMA: order=(1, 0, 1) seasonal_order=(1, 1, 1, 12); AIC=166.666, BIC=179.983, Fit time=0.726 seconds\n",
      "Fit ARIMA: order=(1, 0, 1) seasonal_order=(0, 1, 0, 12); AIC=184.026, BIC=192.904, Fit time=0.226 seconds\n",
      "Fit ARIMA: order=(1, 0, 1) seasonal_order=(0, 1, 2, 12); AIC=166.783, BIC=180.100, Fit time=2.023 seconds\n",
      "Fit ARIMA: order=(1, 0, 1) seasonal_order=(1, 1, 2, 12); AIC=168.485, BIC=184.022, Fit time=2.760 seconds\n",
      "Fit ARIMA: order=(2, 0, 1) seasonal_order=(0, 1, 1, 12); AIC=167.100, BIC=180.417, Fit time=0.733 seconds\n",
      "Fit ARIMA: order=(1, 0, 0) seasonal_order=(0, 1, 1, 12); AIC=167.074, BIC=175.952, Fit time=0.323 seconds\n",
      "Fit ARIMA: order=(1, 0, 2) seasonal_order=(0, 1, 1, 12); AIC=166.982, BIC=180.299, Fit time=0.861 seconds\n",
      "Fit ARIMA: order=(0, 0, 0) seasonal_order=(0, 1, 1, 12); AIC=175.361, BIC=182.019, Fit time=0.906 seconds\n",
      "Fit ARIMA: order=(2, 0, 2) seasonal_order=(0, 1, 1, 12); AIC=167.218, BIC=182.754, Fit time=1.280 seconds\n",
      "Total fit time: 12.903 seconds\n"
     ]
    },
    {
     "data": {
      "text/html": [
       "<table class=\"simpletable\">\n",
       "<caption>SARIMAX Results</caption>\n",
       "<tr>\n",
       "  <th>Dep. Variable:</th>                  <td>y</td>               <th>  No. Observations:  </th>   <td>80</td>   \n",
       "</tr>\n",
       "<tr>\n",
       "  <th>Model:</th>           <td>SARIMAX(1, 0, 1)x(0, 1, 1, 12)</td> <th>  Log Likelihood     </th> <td>-77.606</td>\n",
       "</tr>\n",
       "<tr>\n",
       "  <th>Date:</th>                   <td>Tue, 16 Jun 2020</td>        <th>  AIC                </th> <td>165.212</td>\n",
       "</tr>\n",
       "<tr>\n",
       "  <th>Time:</th>                       <td>12:16:24</td>            <th>  BIC                </th> <td>176.310</td>\n",
       "</tr>\n",
       "<tr>\n",
       "  <th>Sample:</th>                         <td>0</td>               <th>  HQIC               </th> <td>169.610</td>\n",
       "</tr>\n",
       "<tr>\n",
       "  <th></th>                              <td> - 80</td>             <th>                     </th>    <td> </td>   \n",
       "</tr>\n",
       "<tr>\n",
       "  <th>Covariance Type:</th>               <td>opg</td>              <th>                     </th>    <td> </td>   \n",
       "</tr>\n",
       "</table>\n",
       "<table class=\"simpletable\">\n",
       "<tr>\n",
       "      <td></td>         <th>coef</th>     <th>std err</th>      <th>z</th>      <th>P>|z|</th>  <th>[0.025</th>    <th>0.975]</th>  \n",
       "</tr>\n",
       "<tr>\n",
       "  <th>intercept</th> <td>    0.0175</td> <td>    0.031</td> <td>    0.571</td> <td> 0.568</td> <td>   -0.043</td> <td>    0.078</td>\n",
       "</tr>\n",
       "<tr>\n",
       "  <th>ar.L1</th>     <td>    0.8054</td> <td>    0.161</td> <td>    4.993</td> <td> 0.000</td> <td>    0.489</td> <td>    1.122</td>\n",
       "</tr>\n",
       "<tr>\n",
       "  <th>ma.L1</th>     <td>   -0.4986</td> <td>    0.206</td> <td>   -2.416</td> <td> 0.016</td> <td>   -0.903</td> <td>   -0.094</td>\n",
       "</tr>\n",
       "<tr>\n",
       "  <th>ma.S.L12</th>  <td>   -0.7126</td> <td>    0.229</td> <td>   -3.112</td> <td> 0.002</td> <td>   -1.161</td> <td>   -0.264</td>\n",
       "</tr>\n",
       "<tr>\n",
       "  <th>sigma2</th>    <td>    0.5060</td> <td>    0.130</td> <td>    3.890</td> <td> 0.000</td> <td>    0.251</td> <td>    0.761</td>\n",
       "</tr>\n",
       "</table>\n",
       "<table class=\"simpletable\">\n",
       "<tr>\n",
       "  <th>Ljung-Box (Q):</th>          <td>37.19</td> <th>  Jarque-Bera (JB):  </th> <td>0.93</td> \n",
       "</tr>\n",
       "<tr>\n",
       "  <th>Prob(Q):</th>                <td>0.60</td>  <th>  Prob(JB):          </th> <td>0.63</td> \n",
       "</tr>\n",
       "<tr>\n",
       "  <th>Heteroskedasticity (H):</th> <td>0.45</td>  <th>  Skew:              </th> <td>-0.25</td>\n",
       "</tr>\n",
       "<tr>\n",
       "  <th>Prob(H) (two-sided):</th>    <td>0.06</td>  <th>  Kurtosis:          </th> <td>2.73</td> \n",
       "</tr>\n",
       "</table><br/><br/>Warnings:<br/>[1] Covariance matrix calculated using the outer product of gradients (complex-step)."
      ],
      "text/plain": [
       "<class 'statsmodels.iolib.summary.Summary'>\n",
       "\"\"\"\n",
       "                                     SARIMAX Results                                      \n",
       "==========================================================================================\n",
       "Dep. Variable:                                  y   No. Observations:                   80\n",
       "Model:             SARIMAX(1, 0, 1)x(0, 1, 1, 12)   Log Likelihood                 -77.606\n",
       "Date:                            Tue, 16 Jun 2020   AIC                            165.212\n",
       "Time:                                    12:16:24   BIC                            176.310\n",
       "Sample:                                         0   HQIC                           169.610\n",
       "                                             - 80                                         \n",
       "Covariance Type:                              opg                                         \n",
       "==============================================================================\n",
       "                 coef    std err          z      P>|z|      [0.025      0.975]\n",
       "------------------------------------------------------------------------------\n",
       "intercept      0.0175      0.031      0.571      0.568      -0.043       0.078\n",
       "ar.L1          0.8054      0.161      4.993      0.000       0.489       1.122\n",
       "ma.L1         -0.4986      0.206     -2.416      0.016      -0.903      -0.094\n",
       "ma.S.L12      -0.7126      0.229     -3.112      0.002      -1.161      -0.264\n",
       "sigma2         0.5060      0.130      3.890      0.000       0.251       0.761\n",
       "===================================================================================\n",
       "Ljung-Box (Q):                       37.19   Jarque-Bera (JB):                 0.93\n",
       "Prob(Q):                              0.60   Prob(JB):                         0.63\n",
       "Heteroskedasticity (H):               0.45   Skew:                            -0.25\n",
       "Prob(H) (two-sided):                  0.06   Kurtosis:                         2.73\n",
       "===================================================================================\n",
       "\n",
       "Warnings:\n",
       "[1] Covariance matrix calculated using the outer product of gradients (complex-step).\n",
       "\"\"\""
      ]
     },
     "execution_count": 25,
     "metadata": {},
     "output_type": "execute_result"
    }
   ],
   "source": [
    "#pip install pmdarima \n",
    "  \n",
    "# Import the library \n",
    "from pmdarima import auto_arima \n",
    "  \n",
    "# Ignore harmless warnings \n",
    "import warnings \n",
    "warnings.filterwarnings(\"ignore\") \n",
    "  \n",
    "# Fit auto_arima function to AirPassengers dataset \n",
    "stepwise_fit = auto_arima(log_indexed['feature'], start_p = 1, start_q = 1, \n",
    "                          max_p = 3, max_q = 3, m = 12, \n",
    "                          start_P = 0, seasonal = True, \n",
    "                          d = None, D = 1, trace = True, \n",
    "                          error_action ='ignore',   # we don't want to know if an order does not work \n",
    "                          suppress_warnings = True,  # we don't want convergence warnings \n",
    "                          stepwise = True)           # set to stepwise \n",
    "  \n",
    "# To print the summary \n",
    "stepwise_fit.summary() "
   ]
  },
  {
   "cell_type": "code",
   "execution_count": 32,
   "metadata": {},
   "outputs": [],
   "source": [
    "test = pd.read_csv('.\\\\Documents\\\\test_csv.csv')"
   ]
  },
  {
   "cell_type": "code",
   "execution_count": 38,
   "metadata": {},
   "outputs": [],
   "source": [
    "test.time = pd.to_datetime(test.time,infer_datetime_format=True)\n",
    "test1 = test.set_index(['time'])\n",
    "test1 = test1.drop('id',axis=1)"
   ]
  },
  {
   "cell_type": "code",
   "execution_count": 39,
   "metadata": {},
   "outputs": [
    {
     "data": {
      "text/html": [
       "<div>\n",
       "<style scoped>\n",
       "    .dataframe tbody tr th:only-of-type {\n",
       "        vertical-align: middle;\n",
       "    }\n",
       "\n",
       "    .dataframe tbody tr th {\n",
       "        vertical-align: top;\n",
       "    }\n",
       "\n",
       "    .dataframe thead th {\n",
       "        text-align: right;\n",
       "    }\n",
       "</style>\n",
       "<table border=\"1\" class=\"dataframe\">\n",
       "  <thead>\n",
       "    <tr style=\"text-align: right;\">\n",
       "      <th></th>\n",
       "    </tr>\n",
       "    <tr>\n",
       "      <th>time</th>\n",
       "    </tr>\n",
       "  </thead>\n",
       "  <tbody>\n",
       "    <tr>\n",
       "      <th>2019-03-19 00:13:20</th>\n",
       "    </tr>\n",
       "    <tr>\n",
       "      <th>2019-03-19 00:13:30</th>\n",
       "    </tr>\n",
       "    <tr>\n",
       "      <th>2019-03-19 00:13:40</th>\n",
       "    </tr>\n",
       "    <tr>\n",
       "      <th>2019-03-19 00:13:50</th>\n",
       "    </tr>\n",
       "    <tr>\n",
       "      <th>2019-03-19 00:14:00</th>\n",
       "    </tr>\n",
       "  </tbody>\n",
       "</table>\n",
       "</div>"
      ],
      "text/plain": [
       "Empty DataFrame\n",
       "Columns: []\n",
       "Index: [2019-03-19 00:13:20, 2019-03-19 00:13:30, 2019-03-19 00:13:40, 2019-03-19 00:13:50, 2019-03-19 00:14:00]"
      ]
     },
     "execution_count": 39,
     "metadata": {},
     "output_type": "execute_result"
    }
   ],
   "source": [
    "test1.head()"
   ]
  },
  {
   "cell_type": "code",
   "execution_count": 40,
   "metadata": {},
   "outputs": [
    {
     "data": {
      "text/html": [
       "<table class=\"simpletable\">\n",
       "<caption>SARIMAX Results</caption>\n",
       "<tr>\n",
       "  <th>Dep. Variable:</th>               <td>feature</td>            <th>  No. Observations:  </th>   <td>80</td>   \n",
       "</tr>\n",
       "<tr>\n",
       "  <th>Model:</th>           <td>SARIMAX(0, 1, 1)x(2, 1, 1, 12)</td> <th>  Log Likelihood     </th> <td>-79.053</td>\n",
       "</tr>\n",
       "<tr>\n",
       "  <th>Date:</th>                   <td>Tue, 16 Jun 2020</td>        <th>  AIC                </th> <td>168.106</td>\n",
       "</tr>\n",
       "<tr>\n",
       "  <th>Time:</th>                       <td>21:27:39</td>            <th>  BIC                </th> <td>179.129</td>\n",
       "</tr>\n",
       "<tr>\n",
       "  <th>Sample:</th>                    <td>03-19-2019</td>           <th>  HQIC               </th> <td>172.468</td>\n",
       "</tr>\n",
       "<tr>\n",
       "  <th></th>                          <td>- 03-19-2019</td>          <th>                     </th>    <td> </td>   \n",
       "</tr>\n",
       "<tr>\n",
       "  <th>Covariance Type:</th>               <td>opg</td>              <th>                     </th>    <td> </td>   \n",
       "</tr>\n",
       "</table>\n",
       "<table class=\"simpletable\">\n",
       "<tr>\n",
       "      <td></td>        <th>coef</th>     <th>std err</th>      <th>z</th>      <th>P>|z|</th>  <th>[0.025</th>    <th>0.975]</th>  \n",
       "</tr>\n",
       "<tr>\n",
       "  <th>ma.L1</th>    <td>   -0.6037</td> <td>    0.104</td> <td>   -5.813</td> <td> 0.000</td> <td>   -0.807</td> <td>   -0.400</td>\n",
       "</tr>\n",
       "<tr>\n",
       "  <th>ar.S.L12</th> <td>    0.0919</td> <td>    0.726</td> <td>    0.127</td> <td> 0.899</td> <td>   -1.331</td> <td>    1.515</td>\n",
       "</tr>\n",
       "<tr>\n",
       "  <th>ar.S.L24</th> <td>    0.2379</td> <td>    0.525</td> <td>    0.453</td> <td> 0.651</td> <td>   -0.791</td> <td>    1.267</td>\n",
       "</tr>\n",
       "<tr>\n",
       "  <th>ma.S.L12</th> <td>   -0.8389</td> <td>    0.962</td> <td>   -0.872</td> <td> 0.383</td> <td>   -2.724</td> <td>    1.046</td>\n",
       "</tr>\n",
       "<tr>\n",
       "  <th>sigma2</th>   <td>    0.5401</td> <td>    0.194</td> <td>    2.789</td> <td> 0.005</td> <td>    0.161</td> <td>    0.920</td>\n",
       "</tr>\n",
       "</table>\n",
       "<table class=\"simpletable\">\n",
       "<tr>\n",
       "  <th>Ljung-Box (Q):</th>          <td>32.79</td> <th>  Jarque-Bera (JB):  </th> <td>1.91</td> \n",
       "</tr>\n",
       "<tr>\n",
       "  <th>Prob(Q):</th>                <td>0.78</td>  <th>  Prob(JB):          </th> <td>0.38</td> \n",
       "</tr>\n",
       "<tr>\n",
       "  <th>Heteroskedasticity (H):</th> <td>0.51</td>  <th>  Skew:              </th> <td>-0.26</td>\n",
       "</tr>\n",
       "<tr>\n",
       "  <th>Prob(H) (two-sided):</th>    <td>0.12</td>  <th>  Kurtosis:          </th> <td>2.36</td> \n",
       "</tr>\n",
       "</table><br/><br/>Warnings:<br/>[1] Covariance matrix calculated using the outer product of gradients (complex-step)."
      ],
      "text/plain": [
       "<class 'statsmodels.iolib.summary.Summary'>\n",
       "\"\"\"\n",
       "                                     SARIMAX Results                                      \n",
       "==========================================================================================\n",
       "Dep. Variable:                            feature   No. Observations:                   80\n",
       "Model:             SARIMAX(0, 1, 1)x(2, 1, 1, 12)   Log Likelihood                 -79.053\n",
       "Date:                            Tue, 16 Jun 2020   AIC                            168.106\n",
       "Time:                                    21:27:39   BIC                            179.129\n",
       "Sample:                                03-19-2019   HQIC                           172.468\n",
       "                                     - 03-19-2019                                         \n",
       "Covariance Type:                              opg                                         \n",
       "==============================================================================\n",
       "                 coef    std err          z      P>|z|      [0.025      0.975]\n",
       "------------------------------------------------------------------------------\n",
       "ma.L1         -0.6037      0.104     -5.813      0.000      -0.807      -0.400\n",
       "ar.S.L12       0.0919      0.726      0.127      0.899      -1.331       1.515\n",
       "ar.S.L24       0.2379      0.525      0.453      0.651      -0.791       1.267\n",
       "ma.S.L12      -0.8389      0.962     -0.872      0.383      -2.724       1.046\n",
       "sigma2         0.5401      0.194      2.789      0.005       0.161       0.920\n",
       "===================================================================================\n",
       "Ljung-Box (Q):                       32.79   Jarque-Bera (JB):                 1.91\n",
       "Prob(Q):                              0.78   Prob(JB):                         0.38\n",
       "Heteroskedasticity (H):               0.51   Skew:                            -0.26\n",
       "Prob(H) (two-sided):                  0.12   Kurtosis:                         2.36\n",
       "===================================================================================\n",
       "\n",
       "Warnings:\n",
       "[1] Covariance matrix calculated using the outer product of gradients (complex-step).\n",
       "\"\"\""
      ]
     },
     "execution_count": 40,
     "metadata": {},
     "output_type": "execute_result"
    }
   ],
   "source": [
    "train = log_indexed\n",
    "test = test1 # set one year(12 months) for testing \n",
    "  \n",
    "# Fit a SARIMAX(0, 1, 1)x(2, 1, 1, 12) on the training set \n",
    "from statsmodels.tsa.statespace.sarimax import SARIMAX \n",
    "  \n",
    "model = SARIMAX(train['feature'],  \n",
    "                order = (0, 1, 1),  \n",
    "                seasonal_order =(2, 1, 1, 12)) \n",
    "  \n",
    "result = model.fit() \n",
    "result.summary() "
   ]
  },
  {
   "cell_type": "code",
   "execution_count": 44,
   "metadata": {},
   "outputs": [
    {
     "data": {
      "text/plain": [
       "<matplotlib.axes._subplots.AxesSubplot at 0x281539e5988>"
      ]
     },
     "execution_count": 44,
     "metadata": {},
     "output_type": "execute_result"
    },
    {
     "data": {
      "image/png": "[encoded data removed]",
      "text/plain": [
       "<Figure size 432x288 with 1 Axes>"
      ]
     },
     "metadata": {
      "needs_background": "light"
     },
     "output_type": "display_data"
    }
   ],
   "source": [
    "start = len(train) \n",
    "end = len(train) + len(test) - 1\n",
    "  \n",
    "# Predictions for one-year against the test set \n",
    "predictions = result.predict(start, end,typ = 'levels').rename(\"Predictions\") \n",
    "  \n",
    "# plot predictions and actual values \n",
    "predictions.plot(legend = True) \n",
    "log_indexed['feature'].plot(legend = True) "
   ]
  },
  {
   "cell_type": "code",
   "execution_count": null,
   "metadata": {},
   "outputs": [],
   "source": []
  }
 ],
 "metadata": {
  "kernelspec": {
   "display_name": "Python 3",
   "language": "python",
   "name": "python3"
  },
  "language_info": {
   "codemirror_mode": {
    "name": "ipython",
    "version": 3
   },
   "file_extension": ".py",
   "mimetype": "text/x-python",
   "name": "python",
   "nbconvert_exporter": "python",
   "pygments_lexer": "ipython3",
   "version": "3.7.6"
  }
 },
 "nbformat": 4,
 "nbformat_minor": 4
}
